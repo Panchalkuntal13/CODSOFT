{
 "cells": [
  {
   "cell_type": "code",
   "execution_count": 1,
   "id": "02afb411-825e-4811-8726-dab8e18d044e",
   "metadata": {},
   "outputs": [],
   "source": [
    "import tkinter as tk\n",
    "from tkinter import messagebox\n",
    "\n",
    "def add_task():\n",
    "    task = task_entry.get()\n",
    "    if task != \"\":\n",
    "        tasks_listbox.insert(tk.END, task)\n",
    "        task_entry.delete(0, tk.END)\n",
    "    else:\n",
    "        messagebox.showwarning(\"Warning\", \"You must enter a task.\")\n",
    "\n",
    "def delete_task():\n",
    "    try:\n",
    "        selected_task_index = tasks_listbox.curselection()[0]\n",
    "        tasks_listbox.delete(selected_task_index)\n",
    "    except:\n",
    "        messagebox.showwarning(\"Warning\", \"You must select a task to delete.\")\n",
    "\n",
    "# Create the main window\n",
    "window = tk.Tk()\n",
    "window.title(\"To-Do List\")\n",
    "\n",
    "# Create a frame for the listbox and scrollbar\n",
    "frame_tasks = tk.Frame(window)\n",
    "frame_tasks.pack()\n",
    "\n",
    "# Create a listbox to hold the tasks\n",
    "tasks_listbox = tk.Listbox(frame_tasks, bg=\"black\", fg=\"white\", height=15, width=50, font=\"Helvetica\")\n",
    "tasks_listbox.pack(side=tk.LEFT)\n",
    "\n",
    "# Create a scrollbar for the listbox\n",
    "tasks_scrollbar = tk.Scrollbar(frame_tasks)\n",
    "tasks_scrollbar.pack(side=tk.RIGHT, fill=tk.Y)\n",
    "\n",
    "tasks_listbox.config(yscrollcommand=tasks_scrollbar.set)\n",
    "tasks_scrollbar.config(command=tasks_listbox.yview)\n",
    "\n",
    "# Create an entry widget to add new tasks\n",
    "task_entry = tk.Entry(window, width=50)\n",
    "task_entry.pack()\n",
    "\n",
    "# Create a button to add tasks\n",
    "add_task_button = tk.Button(window, text=\"Add task\", width=48, command=add_task)\n",
    "add_task_button.pack()\n",
    "\n",
    "# Create a button to delete tasks\n",
    "delete_task_button = tk.Button(window, text=\"Delete task\", width=48, command=delete_task)\n",
    "delete_task_button.pack()\n",
    "\n",
    "# Run the main loop\n",
    "window.mainloop()"
   ]
  },
  {
   "cell_type": "code",
   "execution_count": null,
   "id": "75f9a923-ed7a-4ae8-9751-87ceb7991682",
   "metadata": {},
   "outputs": [],
   "source": []
  }
 ],
 "metadata": {
  "kernelspec": {
   "display_name": "Python 3 (ipykernel)",
   "language": "python",
   "name": "python3"
  },
  "language_info": {
   "codemirror_mode": {
    "name": "ipython",
    "version": 3
   },
   "file_extension": ".py",
   "mimetype": "text/x-python",
   "name": "python",
   "nbconvert_exporter": "python",
   "pygments_lexer": "ipython3",
   "version": "3.12.4"
  }
 },
 "nbformat": 4,
 "nbformat_minor": 5
}
