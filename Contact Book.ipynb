{
 "cells": [
  {
   "cell_type": "code",
   "execution_count": 2,
   "id": "587b8893-07ef-4b98-96ae-d24631cb05f0",
   "metadata": {},
   "outputs": [
    {
     "name": "stdout",
     "output_type": "stream",
     "text": [
      "Contact Book\n",
      "1. Add Contact\n",
      "2. View Contacts\n",
      "3. Search Contact\n",
      "4. Exit\n"
     ]
    },
    {
     "name": "stdin",
     "output_type": "stream",
     "text": [
      "Choose an option (1-4):  3\n",
      "Enter contact name to search:  kunal\n"
     ]
    },
    {
     "name": "stdout",
     "output_type": "stream",
     "text": [
      "Contact not found.\n",
      "Contact Book\n",
      "1. Add Contact\n",
      "2. View Contacts\n",
      "3. Search Contact\n",
      "4. Exit\n"
     ]
    },
    {
     "name": "stdin",
     "output_type": "stream",
     "text": [
      "Choose an option (1-4):  1\n",
      "Enter contact name:  kunal\n",
      "Enter phone number:  777777\n",
      "Enter email address:  hsjdjk\n"
     ]
    },
    {
     "name": "stdout",
     "output_type": "stream",
     "text": [
      "Contact added successfully.\n",
      "Contact Book\n",
      "1. Add Contact\n",
      "2. View Contacts\n",
      "3. Search Contact\n",
      "4. Exit\n"
     ]
    },
    {
     "name": "stdin",
     "output_type": "stream",
     "text": [
      "Choose an option (1-4):  3\n",
      "Enter contact name to search:  kunal\n"
     ]
    },
    {
     "name": "stdout",
     "output_type": "stream",
     "text": [
      "Name: kunal\n",
      "Phone: 777777\n",
      "Email: hsjdjk\n",
      "Contact Book\n",
      "1. Add Contact\n",
      "2. View Contacts\n",
      "3. Search Contact\n",
      "4. Exit\n"
     ]
    },
    {
     "name": "stdin",
     "output_type": "stream",
     "text": [
      "Choose an option (1-4):  4\n"
     ]
    },
    {
     "name": "stdout",
     "output_type": "stream",
     "text": [
      "Contacts saved. Exiting...\n"
     ]
    }
   ],
   "source": [
    "import json\n",
    "\n",
    "# Load contacts from a file\n",
    "def load_contacts(filename):\n",
    "    try:\n",
    "        with open(filename, 'r') as file:\n",
    "            return json.load(file)\n",
    "    except FileNotFoundError:\n",
    "        return {}\n",
    "    except json.JSONDecodeError:\n",
    "        return {}\n",
    "\n",
    "# Save contacts to a file\n",
    "def save_contacts(contacts, filename):\n",
    "    with open(filename, 'w') as file:\n",
    "        json.dump(contacts, file, indent=4)\n",
    "\n",
    "# Add a new contact\n",
    "def add_contact(contacts):\n",
    "    name = input(\"Enter contact name: \").strip()\n",
    "    phone = input(\"Enter phone number: \").strip()\n",
    "    email = input(\"Enter email address: \").strip()\n",
    "    \n",
    "    if name in contacts:\n",
    "        print(\"Contact already exists.\")\n",
    "    else:\n",
    "        contacts[name] = {'phone': phone, 'email': email}\n",
    "        print(\"Contact added successfully.\")\n",
    "\n",
    "# View all contacts\n",
    "def view_contacts(contacts):\n",
    "    if contacts:\n",
    "        for name, details in contacts.items():\n",
    "            print(f\"Name: {name}\")\n",
    "            print(f\"Phone: {details['phone']}\")\n",
    "            print(f\"Email: {details['email']}\\n\")\n",
    "    else:\n",
    "        print(\"No contacts found.\")\n",
    "\n",
    "# Search for a contact\n",
    "def search_contact(contacts):\n",
    "    name = input(\"Enter contact name to search: \").strip()\n",
    "    if name in contacts:\n",
    "        details = contacts[name]\n",
    "        print(f\"Name: {name}\")\n",
    "        print(f\"Phone: {details['phone']}\")\n",
    "        print(f\"Email: {details['email']}\")\n",
    "    else:\n",
    "        print(\"Contact not found.\")\n",
    "\n",
    "def main():\n",
    "    filename = 'contacts.json'\n",
    "    contacts = load_contacts(filename)\n",
    "    \n",
    "    while True:\n",
    "        print(\"Contact Book\")\n",
    "        print(\"1. Add Contact\")\n",
    "        print(\"2. View Contacts\")\n",
    "        print(\"3. Search Contact\")\n",
    "        print(\"4. Exit\")\n",
    "        \n",
    "        choice = input(\"Choose an option (1-4): \")\n",
    "        \n",
    "        if choice == '1':\n",
    "            add_contact(contacts)\n",
    "        elif choice == '2':\n",
    "            view_contacts(contacts)\n",
    "        elif choice == '3':\n",
    "            search_contact(contacts)\n",
    "        elif choice == '4':\n",
    "            save_contacts(contacts, filename)\n",
    "            print(\"Contacts saved. Exiting...\")\n",
    "            break\n",
    "        else:\n",
    "            print(\"Invalid option. Please try again.\")\n",
    "\n",
    "if __name__ == \"__main__\":\n",
    "    main()"
   ]
  },
  {
   "cell_type": "code",
   "execution_count": null,
   "id": "c0b6aff7-2e17-4dd6-be61-c8bd5a62d86a",
   "metadata": {},
   "outputs": [],
   "source": []
  }
 ],
 "metadata": {
  "kernelspec": {
   "display_name": "Python 3 (ipykernel)",
   "language": "python",
   "name": "python3"
  },
  "language_info": {
   "codemirror_mode": {
    "name": "ipython",
    "version": 3
   },
   "file_extension": ".py",
   "mimetype": "text/x-python",
   "name": "python",
   "nbconvert_exporter": "python",
   "pygments_lexer": "ipython3",
   "version": "3.12.4"
  }
 },
 "nbformat": 4,
 "nbformat_minor": 5
}
