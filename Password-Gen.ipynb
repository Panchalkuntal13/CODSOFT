{
 "cells": [
  {
   "cell_type": "code",
   "execution_count": 4,
   "id": "46f4d2ba-f776-42dc-8653-6568c4314e46",
   "metadata": {},
   "outputs": [
    {
     "name": "stdin",
     "output_type": "stream",
     "text": [
      "Enter the desired password length:  35\n"
     ]
    },
    {
     "name": "stdout",
     "output_type": "stream",
     "text": [
      "Generated Password: [\\LApTm%x@E3~BcP#OBl`keIL#$Mq#[I)M`\n"
     ]
    }
   ],
   "source": [
    "import random\n",
    "import string\n",
    "\n",
    "def generate_password(length):\n",
    "    characters = string.ascii_letters + string.digits + string.punctuation\n",
    "    password = ''.join(random.choice(characters) for _ in range(length))\n",
    "    return password\n",
    "\n",
    "# User input for password length\n",
    "password_length = int(input(\"Enter the desired password length: \"))\n",
    "\n",
    "# Generate and display the password\n",
    "generated_password = generate_password(password_length)\n",
    "print(\"Generated Password:\", generated_password)"
   ]
  },
  {
   "cell_type": "code",
   "execution_count": null,
   "id": "70a4cb48-56eb-4634-95c8-9633086dc89e",
   "metadata": {},
   "outputs": [],
   "source": []
  }
 ],
 "metadata": {
  "kernelspec": {
   "display_name": "Python 3 (ipykernel)",
   "language": "python",
   "name": "python3"
  },
  "language_info": {
   "codemirror_mode": {
    "name": "ipython",
    "version": 3
   },
   "file_extension": ".py",
   "mimetype": "text/x-python",
   "name": "python",
   "nbconvert_exporter": "python",
   "pygments_lexer": "ipython3",
   "version": "3.12.4"
  }
 },
 "nbformat": 4,
 "nbformat_minor": 5
}
